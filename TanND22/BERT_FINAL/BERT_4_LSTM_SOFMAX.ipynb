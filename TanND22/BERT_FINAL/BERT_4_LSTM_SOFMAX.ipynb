{
 "cells": [
  {
   "cell_type": "code",
   "execution_count": null,
   "id": "ec59acd9",
   "metadata": {},
   "outputs": [],
   "source": [
    "import time\n",
    "from transformers import BertTokenizer, BertConfig, BertModel\n",
    "import torch.nn as nn\n",
    "import torch\n",
    "import warnings\n",
    "warnings.filterwarnings(\"ignore\")\n",
    "import pickle\n",
    "\n",
    "from utils.bert_loader import BERT_DATALOADER\n",
    "from utils.bert_evaluate import BERT_EVALUATE\n",
    "from utils.bert_predict import BERT_PREDICT\n",
    "from utils.bert_visualize import BERT_VISUALIZE\n",
    "from utils.bert_model import BERT_4_SOFTMAX"
   ]
  },
  {
   "cell_type": "code",
   "execution_count": null,
   "id": "5ab5c408",
   "metadata": {},
   "outputs": [],
   "source": [
    "import torch\n",
    "dir_train = 'dataset/vlsp21/train.pkl'\n",
    "dir_dev = 'dataset/vlsp21/dev.pkl'\n",
    "dir_test = 'dataset/vlsp21/test.pkl'\n",
    "dir_train_1 = \n",
    "device = torch.device(\"cuda\" if torch.cuda.is_available() else \"cpu\")"
   ]
  }
 ],
 "metadata": {
  "kernelspec": {
   "display_name": "Python 3 (ipykernel)",
   "language": "python",
   "name": "python3"
  },
  "language_info": {
   "codemirror_mode": {
    "name": "ipython",
    "version": 3
   },
   "file_extension": ".py",
   "mimetype": "text/x-python",
   "name": "python",
   "nbconvert_exporter": "python",
   "pygments_lexer": "ipython3",
   "version": "3.9.5"
  }
 },
 "nbformat": 4,
 "nbformat_minor": 5
}
