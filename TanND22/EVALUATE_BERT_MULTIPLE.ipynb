{
 "cells": [
  {
   "cell_type": "markdown",
   "metadata": {},
   "source": [
    "- 2 err chưa fix\n",
    "    + Kích thước câu lớn hơn 256 thì phải cắt => Nên yêu cầu dữ liệu đầu vào sẽ được xử lý và lưu lại txt file\n",
    "    + Cái tagidx cho thằng padding bị sai, nhưng không ảnh hưởng đến bài toán. (chưa tìm ra lỗi đâu)"
   ]
  },
  {
   "cell_type": "markdown",
   "metadata": {},
   "source": [
    "# 1. Load data"
   ]
  },
  {
   "cell_type": "code",
   "execution_count": 1,
   "metadata": {},
   "outputs": [],
   "source": [
    "from transformers import AutoTokenizer\n",
    "from transformers import BertForTokenClassification, AdamW, BertModel, BertConfig\n",
    "import torch\n",
    "\n",
    "from tqdm import tqdm, trange\n",
    "from sklearn.metrics import accuracy_score, f1_score\n",
    "from sklearn.metrics import classification_report"
   ]
  },
  {
   "cell_type": "code",
   "execution_count": 2,
   "metadata": {},
   "outputs": [
    {
     "name": "stderr",
     "output_type": "stream",
     "text": [
      "C:\\Users\\Admin\\AppData\\Roaming\\Python\\Python37\\site-packages\\pandas\\compat\\_optional.py:138: UserWarning: Pandas requires version '2.7.0' or newer of 'numexpr' (version '2.6.8' currently installed).\n",
      "  warnings.warn(msg, UserWarning)\n"
     ]
    }
   ],
   "source": [
    "from utils.bert_load import process_data_for_BERT, check_label, DF_LABEL\n",
    "from utils.bert_evaluate import valuation_bert_multi"
   ]
  },
  {
   "cell_type": "code",
   "execution_count": 3,
   "metadata": {},
   "outputs": [],
   "source": [
    "dir_train = 'vlsp2018/train_2018.txt'\n",
    "dir_valid = 'vlsp2018/val_2018.txt'\n",
    "MAXLEN = 256\n",
    "tokenizer = AutoTokenizer.from_pretrained('bert-base-multilingual-cased', do_lower_case=False,use_fast=False)"
   ]
  },
  {
   "cell_type": "markdown",
   "metadata": {},
   "source": [
    "## 1.1 BIO Label"
   ]
  },
  {
   "cell_type": "code",
   "execution_count": 4,
   "metadata": {},
   "outputs": [],
   "source": [
    "BIO_tag_values = ['B-LOC', 'B-MISC', 'B-ORG', 'B-PER', 'I-LOC', 'I-MISC', 'I-ORG', 'I-PER', 'O']\n",
    "BIO_data_train = process_data_for_BERT(dir_train, tokenizer, BIO_tag_values, MAXLEN, type='BIO')\n",
    "BIO_data_valid = process_data_for_BERT(dir_valid, tokenizer, BIO_tag_values, MAXLEN, type='BIO')"
   ]
  },
  {
   "cell_type": "markdown",
   "metadata": {},
   "source": [
    "#### Một số attibute"
   ]
  },
  {
   "cell_type": "code",
   "execution_count": 5,
   "metadata": {
    "collapsed": true
   },
   "outputs": [
    {
     "data": {
      "text/plain": [
       "{'B-LOC': 0,\n",
       " 'B-MISC': 1,\n",
       " 'B-ORG': 2,\n",
       " 'B-PER': 3,\n",
       " 'I-LOC': 4,\n",
       " 'I-MISC': 5,\n",
       " 'I-ORG': 6,\n",
       " 'I-PER': 7,\n",
       " 'O': 8,\n",
       " 'PAD': 9}"
      ]
     },
     "execution_count": 5,
     "metadata": {},
     "output_type": "execute_result"
    }
   ],
   "source": [
    "idx = 0\n",
    "BIO_data_train.X_padding[idx]\n",
    "BIO_data_train.X[idx]\n",
    "BIO_data_train.data[idx]\n",
    "BIO_data_train.tag2idx"
   ]
  },
  {
   "cell_type": "code",
   "execution_count": 6,
   "metadata": {
    "collapsed": true
   },
   "outputs": [
    {
     "data": {
      "text/plain": [
       "[('Bế', 'O'),\n",
       " ('mạc', 'O'),\n",
       " ('Hội', 'O'),\n",
       " ('nghị', 'O'),\n",
       " ('các', 'O'),\n",
       " ('quan', 'O'),\n",
       " ('chức', 'O'),\n",
       " ('cao', 'O'),\n",
       " ('cấp', 'O'),\n",
       " ('về', 'O'),\n",
       " ('Quản', 'O'),\n",
       " ('lý', 'O'),\n",
       " ('thiên', 'O'),\n",
       " ('tai', 'O'),\n",
       " ('lần', 'O'),\n",
       " ('thứ', 'O'),\n",
       " ('11', 'O')]"
      ]
     },
     "execution_count": 6,
     "metadata": {},
     "output_type": "execute_result"
    }
   ],
   "source": [
    "BIO_data_train.data[idx]"
   ]
  },
  {
   "cell_type": "markdown",
   "metadata": {},
   "source": [
    "#### Một số method"
   ]
  },
  {
   "cell_type": "markdown",
   "metadata": {},
   "source": [
    "- có 2 mode: 'traning' và 'evaluation'\n",
    "- có 2 type: 'train' và 'valid'\n",
    "\n",
    "NX: tại vì lúc chuyển tesor lúc huấn luyện và lúc đánh giá nó khác loại nên mới dùng 2 mode còn dataloader của thằng train và thằng valid cũng khác nhau ở cách nó load, một thằng ngẫu nhiên và một thằng tuần tự nên có 2 type"
   ]
  },
  {
   "cell_type": "code",
   "execution_count": 7,
   "metadata": {},
   "outputs": [],
   "source": [
    "BIO_dataloader_train = BIO_data_train.Dataloader(BATCH_SIZE = 32, mode = 'evaluation', type ='train')\n",
    "BIO_dataloader_valid = BIO_data_valid.Dataloader(BATCH_SIZE = 32, mode = 'evaluation', type ='valid')"
   ]
  },
  {
   "cell_type": "code",
   "execution_count": 8,
   "metadata": {},
   "outputs": [
    {
     "data": {
      "text/plain": [
       "{'B-LOC', 'B-MISC', 'B-ORG', 'B-PER', 'I-LOC', 'I-MISC', 'I-ORG', 'I-PER', 'O'}"
      ]
     },
     "execution_count": 8,
     "metadata": {},
     "output_type": "execute_result"
    }
   ],
   "source": [
    "check_label(BIO_data_train.data + BIO_data_valid.data)"
   ]
  },
  {
   "cell_type": "code",
   "execution_count": 9,
   "metadata": {},
   "outputs": [
    {
     "data": {
      "text/html": [
       "<div>\n",
       "<style scoped>\n",
       "    .dataframe tbody tr th:only-of-type {\n",
       "        vertical-align: middle;\n",
       "    }\n",
       "\n",
       "    .dataframe tbody tr th {\n",
       "        vertical-align: top;\n",
       "    }\n",
       "\n",
       "    .dataframe thead th {\n",
       "        text-align: right;\n",
       "    }\n",
       "</style>\n",
       "<table border=\"1\" class=\"dataframe\">\n",
       "  <thead>\n",
       "    <tr style=\"text-align: right;\">\n",
       "      <th></th>\n",
       "      <th>O</th>\n",
       "      <th>B-MISC</th>\n",
       "      <th>I-MISC</th>\n",
       "      <th>B-LOC</th>\n",
       "      <th>I-LOC</th>\n",
       "      <th>B-ORG</th>\n",
       "      <th>I-ORG</th>\n",
       "      <th>B-PER</th>\n",
       "      <th>I-PER</th>\n",
       "    </tr>\n",
       "  </thead>\n",
       "  <tbody>\n",
       "    <tr>\n",
       "      <th>0</th>\n",
       "      <td>442522</td>\n",
       "      <td>784</td>\n",
       "      <td>1707</td>\n",
       "      <td>7254</td>\n",
       "      <td>7367</td>\n",
       "      <td>5124</td>\n",
       "      <td>11114</td>\n",
       "      <td>6363</td>\n",
       "      <td>6184</td>\n",
       "    </tr>\n",
       "    <tr>\n",
       "      <th>1</th>\n",
       "      <td>147392</td>\n",
       "      <td>184</td>\n",
       "      <td>436</td>\n",
       "      <td>2396</td>\n",
       "      <td>2487</td>\n",
       "      <td>1884</td>\n",
       "      <td>4489</td>\n",
       "      <td>2128</td>\n",
       "      <td>2205</td>\n",
       "    </tr>\n",
       "  </tbody>\n",
       "</table>\n",
       "</div>"
      ],
      "text/plain": [
       "        O  B-MISC  I-MISC  B-LOC  I-LOC  B-ORG  I-ORG  B-PER  I-PER\n",
       "0  442522     784    1707   7254   7367   5124  11114   6363   6184\n",
       "1  147392     184     436   2396   2487   1884   4489   2128   2205"
      ]
     },
     "execution_count": 9,
     "metadata": {},
     "output_type": "execute_result"
    }
   ],
   "source": [
    "DF_LABEL(BIO_data_train.data, BIO_data_valid.data)"
   ]
  },
  {
   "cell_type": "markdown",
   "metadata": {},
   "source": [
    "## 1.2 IO label"
   ]
  },
  {
   "cell_type": "code",
   "execution_count": 10,
   "metadata": {},
   "outputs": [],
   "source": [
    "IO_tag_values = ['PER','LOC','ORG','MISC','O']\n",
    "IO_data_train = process_data_for_BERT(dir_train, tokenizer, IO_tag_values, MAXLEN, type='IO')\n",
    "IO_data_valid = process_data_for_BERT(dir_valid, tokenizer, IO_tag_values, MAXLEN, type='IO')"
   ]
  },
  {
   "cell_type": "code",
   "execution_count": 11,
   "metadata": {},
   "outputs": [
    {
     "data": {
      "text/plain": [
       "{'LOC', 'MISC', 'O', 'ORG', 'PER'}"
      ]
     },
     "execution_count": 11,
     "metadata": {},
     "output_type": "execute_result"
    }
   ],
   "source": [
    "check_label(IO_data_train.data + IO_data_valid.data)"
   ]
  },
  {
   "cell_type": "code",
   "execution_count": 12,
   "metadata": {},
   "outputs": [
    {
     "data": {
      "text/html": [
       "<div>\n",
       "<style scoped>\n",
       "    .dataframe tbody tr th:only-of-type {\n",
       "        vertical-align: middle;\n",
       "    }\n",
       "\n",
       "    .dataframe tbody tr th {\n",
       "        vertical-align: top;\n",
       "    }\n",
       "\n",
       "    .dataframe thead th {\n",
       "        text-align: right;\n",
       "    }\n",
       "</style>\n",
       "<table border=\"1\" class=\"dataframe\">\n",
       "  <thead>\n",
       "    <tr style=\"text-align: right;\">\n",
       "      <th></th>\n",
       "      <th>O</th>\n",
       "      <th>MISC</th>\n",
       "      <th>LOC</th>\n",
       "      <th>ORG</th>\n",
       "      <th>PER</th>\n",
       "    </tr>\n",
       "  </thead>\n",
       "  <tbody>\n",
       "    <tr>\n",
       "      <th>0</th>\n",
       "      <td>442522</td>\n",
       "      <td>2491</td>\n",
       "      <td>14621</td>\n",
       "      <td>16238</td>\n",
       "      <td>12547</td>\n",
       "    </tr>\n",
       "    <tr>\n",
       "      <th>1</th>\n",
       "      <td>147392</td>\n",
       "      <td>620</td>\n",
       "      <td>4883</td>\n",
       "      <td>6373</td>\n",
       "      <td>4333</td>\n",
       "    </tr>\n",
       "  </tbody>\n",
       "</table>\n",
       "</div>"
      ],
      "text/plain": [
       "        O  MISC    LOC    ORG    PER\n",
       "0  442522  2491  14621  16238  12547\n",
       "1  147392   620   4883   6373   4333"
      ]
     },
     "execution_count": 12,
     "metadata": {},
     "output_type": "execute_result"
    }
   ],
   "source": [
    "DF_LABEL(IO_data_train.data, IO_data_valid.data)"
   ]
  },
  {
   "cell_type": "code",
   "execution_count": 13,
   "metadata": {},
   "outputs": [],
   "source": [
    "IO_dataloader_train = IO_data_train.Dataloader(BATCH_SIZE = 32, mode = 'evaluation', type ='train')\n",
    "IO_dataloader_valid = IO_data_valid.Dataloader(BATCH_SIZE = 32, mode = 'evaluation', type ='valid')"
   ]
  },
  {
   "cell_type": "code",
   "execution_count": 14,
   "metadata": {},
   "outputs": [
    {
     "data": {
      "text/plain": [
       "{'PER': 0, 'LOC': 1, 'ORG': 2, 'MISC': 3, 'O': 4, 'PAD': 6}"
      ]
     },
     "execution_count": 14,
     "metadata": {},
     "output_type": "execute_result"
    }
   ],
   "source": [
    "IO_data_valid.tag2idx"
   ]
  },
  {
   "cell_type": "markdown",
   "metadata": {},
   "source": [
    "# 2. Modeling"
   ]
  },
  {
   "cell_type": "code",
   "execution_count": 15,
   "metadata": {},
   "outputs": [],
   "source": [
    "device = torch.device(\"cuda\" if torch.cuda.is_available() else \"cpu\")"
   ]
  },
  {
   "cell_type": "markdown",
   "metadata": {},
   "source": [
    "## 2.1 IO labeling"
   ]
  },
  {
   "cell_type": "code",
   "execution_count": 16,
   "metadata": {},
   "outputs": [],
   "source": [
    "IO_tag2idx = IO_data_train.tag2idx\n",
    "PATH_MODEL = 'model_save/2018/IO_BERT_MULTI.pt'"
   ]
  },
  {
   "cell_type": "code",
   "execution_count": 17,
   "metadata": {
    "collapsed": true
   },
   "outputs": [
    {
     "name": "stderr",
     "output_type": "stream",
     "text": [
      "Some weights of the model checkpoint at bert-base-multilingual-cased were not used when initializing BertForTokenClassification: ['cls.predictions.transform.dense.bias', 'cls.predictions.bias', 'cls.predictions.decoder.weight', 'cls.predictions.transform.LayerNorm.bias', 'cls.seq_relationship.weight', 'cls.predictions.transform.LayerNorm.weight', 'cls.predictions.transform.dense.weight', 'cls.seq_relationship.bias']\n",
      "- This IS expected if you are initializing BertForTokenClassification from the checkpoint of a model trained on another task or with another architecture (e.g. initializing a BertForSequenceClassification model from a BertForPreTraining model).\n",
      "- This IS NOT expected if you are initializing BertForTokenClassification from the checkpoint of a model that you expect to be exactly identical (initializing a BertForSequenceClassification model from a BertForSequenceClassification model).\n",
      "Some weights of BertForTokenClassification were not initialized from the model checkpoint at bert-base-multilingual-cased and are newly initialized: ['classifier.bias', 'classifier.weight']\n",
      "You should probably TRAIN this model on a down-stream task to be able to use it for predictions and inference.\n"
     ]
    },
    {
     "name": "stdout",
     "output_type": "stream",
     "text": [
      "DONE LOAD MODEL\n"
     ]
    }
   ],
   "source": [
    "#BERT base\n",
    "IO_model = BertForTokenClassification.from_pretrained(\n",
    "    \"bert-base-multilingual-cased\",\n",
    "    num_labels=len(IO_tag2idx),\n",
    "    output_attentions = False,\n",
    "    output_hidden_states = False\n",
    ")\n",
    "IO_model.load_state_dict(torch.load(PATH_MODEL), strict=False)\n",
    "IO_model.to(device)\n",
    "print(\"DONE LOAD MODEL\")"
   ]
  },
  {
   "cell_type": "code",
   "execution_count": 18,
   "metadata": {
    "scrolled": true
   },
   "outputs": [
    {
     "name": "stderr",
     "output_type": "stream",
     "text": [
      "Progress Bar: 100%|██████████████████████████████████████████████████████████████████| 101/101 [01:47<00:00,  1.06s/it]\n"
     ]
    },
    {
     "name": "stdout",
     "output_type": "stream",
     "text": [
      "Validation loss: 0.06861759977827844\n",
      "Validation F1-Score: 0.9865009814542686\n",
      "              precision    recall  f1-score   support\n",
      "\n",
      "         LOC     0.9268    0.9397    0.9332      5818\n",
      "        MISC     0.7713    0.6555    0.7087       746\n",
      "           O     0.9954    0.9929    0.9942    165159\n",
      "         ORG     0.8993    0.9397    0.9190      8584\n",
      "         PER     0.9546    0.9646    0.9596      6151\n",
      "\n",
      "    accuracy                         0.9865    186458\n",
      "   macro avg     0.9095    0.8985    0.9029    186458\n",
      "weighted avg     0.9866    0.9865    0.9865    186458\n",
      "\n",
      "####################\n"
     ]
    }
   ],
   "source": [
    "valuation_bert_multi(IO_model,IO_dataloader_valid,IO_tag_values,device)"
   ]
  },
  {
   "cell_type": "markdown",
   "metadata": {},
   "source": [
    "## 2.2 BIO Labeling"
   ]
  },
  {
   "cell_type": "code",
   "execution_count": 19,
   "metadata": {},
   "outputs": [],
   "source": [
    "BIO_tag2idx = BIO_data_train.tag2idx\n",
    "PATH_MODEL = 'model_save/2018/BIO_BERT_MULTI.pt'"
   ]
  },
  {
   "cell_type": "code",
   "execution_count": 20,
   "metadata": {
    "collapsed": true
   },
   "outputs": [
    {
     "name": "stderr",
     "output_type": "stream",
     "text": [
      "Some weights of the model checkpoint at bert-base-multilingual-cased were not used when initializing BertForTokenClassification: ['cls.predictions.transform.dense.bias', 'cls.predictions.bias', 'cls.predictions.decoder.weight', 'cls.predictions.transform.LayerNorm.bias', 'cls.seq_relationship.weight', 'cls.predictions.transform.LayerNorm.weight', 'cls.predictions.transform.dense.weight', 'cls.seq_relationship.bias']\n",
      "- This IS expected if you are initializing BertForTokenClassification from the checkpoint of a model trained on another task or with another architecture (e.g. initializing a BertForSequenceClassification model from a BertForPreTraining model).\n",
      "- This IS NOT expected if you are initializing BertForTokenClassification from the checkpoint of a model that you expect to be exactly identical (initializing a BertForSequenceClassification model from a BertForSequenceClassification model).\n",
      "Some weights of BertForTokenClassification were not initialized from the model checkpoint at bert-base-multilingual-cased and are newly initialized: ['classifier.bias', 'classifier.weight']\n",
      "You should probably TRAIN this model on a down-stream task to be able to use it for predictions and inference.\n"
     ]
    },
    {
     "name": "stdout",
     "output_type": "stream",
     "text": [
      "DONE LOAD MODEL\n"
     ]
    }
   ],
   "source": [
    "#BERT base\n",
    "BIO_model = BertForTokenClassification.from_pretrained(\n",
    "    \"bert-base-multilingual-cased\",\n",
    "    num_labels=len(BIO_tag2idx),\n",
    "    output_attentions = False,\n",
    "    output_hidden_states = False\n",
    ")\n",
    "BIO_model.load_state_dict(torch.load(PATH_MODEL), strict=False)\n",
    "BIO_model.to(device)\n",
    "print(\"DONE LOAD MODEL\")"
   ]
  },
  {
   "cell_type": "code",
   "execution_count": 21,
   "metadata": {},
   "outputs": [
    {
     "name": "stderr",
     "output_type": "stream",
     "text": [
      "Progress Bar: 100%|██████████████████████████████████████████████████████████████████| 101/101 [01:46<00:00,  1.06s/it]\n"
     ]
    },
    {
     "name": "stdout",
     "output_type": "stream",
     "text": [
      "Validation loss: 0.1369466267644186\n",
      "Validation F1-Score: 0.9848008666831136\n",
      "              precision    recall  f1-score   support\n",
      "\n",
      "       B-LOC     0.9057    0.9053    0.9055      2715\n",
      "      B-MISC     0.6844    0.6725    0.6784       229\n",
      "       B-ORG     0.8471    0.9154    0.8799      2918\n",
      "       B-PER     0.9412    0.9485    0.9448      2988\n",
      "       I-LOC     0.9276    0.9201    0.9238      3103\n",
      "      I-MISC     0.7708    0.6634    0.7131       517\n",
      "       I-ORG     0.9089    0.9206    0.9147      5666\n",
      "       I-PER     0.9624    0.9545    0.9584      3163\n",
      "           O     0.9947    0.9934    0.9940    165159\n",
      "\n",
      "    accuracy                         0.9848    186458\n",
      "   macro avg     0.8825    0.8771    0.8792    186458\n",
      "weighted avg     0.9849    0.9848    0.9848    186458\n",
      "\n",
      "####################\n"
     ]
    }
   ],
   "source": [
    "valuation_bert_multi(BIO_model,BIO_dataloader_valid,BIO_tag_values,device)"
   ]
  }
 ],
 "metadata": {
  "kernelspec": {
   "display_name": "Python 3",
   "language": "python",
   "name": "python3"
  },
  "language_info": {
   "codemirror_mode": {
    "name": "ipython",
    "version": 3
   },
   "file_extension": ".py",
   "mimetype": "text/x-python",
   "name": "python",
   "nbconvert_exporter": "python",
   "pygments_lexer": "ipython3",
   "version": "3.7.1"
  }
 },
 "nbformat": 4,
 "nbformat_minor": 2
}
