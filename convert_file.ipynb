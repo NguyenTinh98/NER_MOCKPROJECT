{
 "cells": [
  {
   "cell_type": "code",
   "execution_count": 1,
   "source": [
    "import pandas as pd\n",
    "import numpy as np\n",
    "import re"
   ],
   "outputs": [],
   "metadata": {}
  },
  {
   "cell_type": "code",
   "execution_count": 16,
   "source": [
    "def is_IP(token):\n",
    "  index = 0\n",
    "  indexs = []\n",
    "  for word in token.split(\" \"):\n",
    "      # print(word)\n",
    "      ip = re.findall(r\"\\b\\d{1,3}\\.\\d{1,3}\\.\\d{1,3}\\.\\d{1,3}\\b\", word)\n",
    "     \n",
    "      if len(ip) != 0:\n",
    "          index_start_ip = word.find(ip[0]) + index\n",
    "          \n",
    "          index_end_ip = index_start_ip + len(ip[0])\n",
    "          \n",
    "          indexs.append((index_start_ip, index_end_ip))\n",
    "      index += len(word) + 1\n",
    "  return indexs"
   ],
   "outputs": [],
   "metadata": {}
  },
  {
   "cell_type": "code",
   "execution_count": 17,
   "source": [
    "is_IP(\"192.0.2.1\")"
   ],
   "outputs": [
    {
     "output_type": "stream",
     "name": "stdout",
     "text": [
      "['.1']\n"
     ]
    },
    {
     "output_type": "execute_result",
     "data": {
      "text/plain": [
       "[(7, 9)]"
      ]
     },
     "metadata": {},
     "execution_count": 17
    }
   ],
   "metadata": {}
  },
  {
   "cell_type": "markdown",
   "source": [
    "# Convert .Coll sang DataFrame"
   ],
   "metadata": {}
  },
  {
   "cell_type": "code",
   "execution_count": 29,
   "source": [
    "def read_conll(in_file, lowercase=False, max_example=None):\n",
    "    f_name = in_file.split(\"/\")[-1].replace(\".conll\", \"\")\n",
    "    examples = []\n",
    "    \n",
    "    with open(in_file) as f:\n",
    "        n_sents, word, label1, label2, label3= [], [], [], [], []\n",
    "        n_sent = 0\n",
    "        for line in f.readlines():\n",
    "            \n",
    "            sp = line.strip().split('\\t')\n",
    "            if sp[0] != '_':\n",
    "                if len(sp) >= 4:\n",
    "                    part = sp[3].split('-', 1)\n",
    "                    if len(part) > 1:\n",
    "                        postion = part[0]\n",
    "                        label_name = part[1]\n",
    "                    else:\n",
    "                        postion = 'default'\n",
    "                        label_name = part[0]\n",
    "\n",
    "                    if postion == 'I' and label1[-1] == label_name:\n",
    "                        if label_name not in ['URL', 'EMAIL', 'PHONENUMBER']:\n",
    "                            word[-1] = word[-1] + ' ' + sp[0]\n",
    "                        else:\n",
    "                            word[-1] = word[-1] + sp[0]\n",
    "\n",
    "                    else:\n",
    "                        word.append(sp[0])\n",
    "                        label1.append(label_name)\n",
    "                        label2.append('?')\n",
    "                        label3.append('?')\n",
    "                        n_sents.append(n_sent)\n",
    "                        \n",
    "                if len(sp) == 5:\n",
    "                    label2[-1] = sp[4]\n",
    "                if len(sp) == 6:\n",
    "                    label3[-1] = sp[5]\n",
    "                n_sent += 1  \n",
    "     \n",
    "            # save sentence to examples\n",
    "            if sp[0] == '':\n",
    "                if word[-1] != '.':\n",
    "                    word.append('.')\n",
    "                    label1.append('O')\n",
    "                    label2.append('END')\n",
    "                    label3.append('END')\n",
    "                    n_sents.append(n_sent)\n",
    "\n",
    "                examples.append({'f_name':f_name,'n_sent':n_sents, 'word': word, 'label1': label1, 'label2': label2, 'label3': label3})\n",
    "                n_sent = 0\n",
    "           \n",
    "            \n",
    "    return examples "
   ],
   "outputs": [],
   "metadata": {}
  },
  {
   "cell_type": "code",
   "execution_count": 11,
   "source": [
    "'I-PHONENUMBER-MANH'.split('-', 1)"
   ],
   "outputs": [
    {
     "output_type": "execute_result",
     "data": {
      "text/plain": [
       "['I', 'PHONENUMBER-MANH']"
      ]
     },
     "metadata": {},
     "execution_count": 11
    }
   ],
   "metadata": {}
  },
  {
   "cell_type": "code",
   "execution_count": 35,
   "source": [
    "dff = read_conll('/Users/phamvanmanh/Desktop/machine/final_vlsp/converted/train-converted/00_add_0269.conll')\n",
    "df1 = pd.DataFrame(dff[0])\n",
    "df1[df1['label1'] == 'PHONENUMBER']"
   ],
   "outputs": [
    {
     "output_type": "execute_result",
     "data": {
      "text/html": [
       "<div>\n",
       "<style scoped>\n",
       "    .dataframe tbody tr th:only-of-type {\n",
       "        vertical-align: middle;\n",
       "    }\n",
       "\n",
       "    .dataframe tbody tr th {\n",
       "        vertical-align: top;\n",
       "    }\n",
       "\n",
       "    .dataframe thead th {\n",
       "        text-align: right;\n",
       "    }\n",
       "</style>\n",
       "<table border=\"1\" class=\"dataframe\">\n",
       "  <thead>\n",
       "    <tr style=\"text-align: right;\">\n",
       "      <th></th>\n",
       "      <th>f_name</th>\n",
       "      <th>n_sent</th>\n",
       "      <th>word</th>\n",
       "      <th>label1</th>\n",
       "      <th>label2</th>\n",
       "      <th>label3</th>\n",
       "    </tr>\n",
       "  </thead>\n",
       "  <tbody>\n",
       "    <tr>\n",
       "      <th>399</th>\n",
       "      <td>00_add_0269</td>\n",
       "      <td>58</td>\n",
       "      <td>0987673608</td>\n",
       "      <td>PHONENUMBER</td>\n",
       "      <td>O</td>\n",
       "      <td>?</td>\n",
       "    </tr>\n",
       "  </tbody>\n",
       "</table>\n",
       "</div>"
      ],
      "text/plain": [
       "          f_name  n_sent        word       label1 label2 label3\n",
       "399  00_add_0269      58  0987673608  PHONENUMBER      O      ?"
      ]
     },
     "metadata": {},
     "execution_count": 35
    }
   ],
   "metadata": {}
  },
  {
   "cell_type": "code",
   "execution_count": 6,
   "source": [
    "def to_zip(df, parent_path, fold_name):\n",
    "\n",
    "    compression_opts = dict(method='zip',\n",
    "                                archive_name=fold_name + '.csv')  \n",
    "    df.to_csv( parent_path + fold_name + '.zip', index=False,\n",
    "                compression=compression_opts) \n",
    "    return print(fold_name + \" saved done!\")"
   ],
   "outputs": [],
   "metadata": {}
  },
  {
   "cell_type": "code",
   "execution_count": 7,
   "source": [
    "import os\n",
    "\n",
    "def convert_Dataframe(in_folder, out_folder):\n",
    "    \n",
    "    sub_folders = [name for name in os.listdir(in_folder) if os.path.isdir(os.path.join(in_folder, name))]\n",
    "    print(sub_folders)\n",
    "    for n_folder in sub_folders:\n",
    "        df = pd.DataFrame(columns = ['f_name','n_sent', 'word', 'label1', 'label2', 'label3'])\n",
    "        path = in_folder + n_folder\n",
    "        sub_files = os.listdir(path)\n",
    "    \n",
    "  \n",
    "        for s_file in sub_files:\n",
    "            try:\n",
    "                f_path = path + '/' + s_file\n",
    "                data = read_conll(f_path)\n",
    "                df1 = pd.DataFrame(data[0])\n",
    "                df = df.append(df1)\n",
    "            except  Exception as e: print('error read_conll: {}, {}'.format(e, f_path))\n",
    "\n",
    "        try:\n",
    "            to_zip(df, out_folder, n_folder)\n",
    "        except  Exception as e: print('error to_zip: {}'.format(e))\n",
    "        \n",
    "\n",
    "\n",
    "    return 'done!'\n",
    "\n",
    "        "
   ],
   "outputs": [],
   "metadata": {}
  },
  {
   "cell_type": "markdown",
   "source": [
    "x"
   ],
   "metadata": {}
  },
  {
   "cell_type": "code",
   "execution_count": 8,
   "source": [
    "out_folder = '/Users/phamvanmanh/Desktop/machine/final_vlsp/converted_to_dataframe/'\n",
    "in_folder = '/Users/phamvanmanh/Desktop/machine/final_vlsp/converted/'"
   ],
   "outputs": [],
   "metadata": {}
  },
  {
   "cell_type": "code",
   "execution_count": 36,
   "source": [
    "convert_Dataframe(in_folder, out_folder)"
   ],
   "outputs": [
    {
     "output_type": "stream",
     "name": "stdout",
     "text": [
      "['test-converted', 'dev-converted', 'train-converted']\n",
      "test-converted saved done!\n",
      "dev-converted saved done!\n",
      "train-converted saved done!\n"
     ]
    },
    {
     "output_type": "execute_result",
     "data": {
      "text/plain": [
       "'done!'"
      ]
     },
     "metadata": {},
     "execution_count": 36
    }
   ],
   "metadata": {}
  }
 ],
 "metadata": {
  "orig_nbformat": 4,
  "language_info": {
   "name": "python",
   "version": "3.8.8",
   "mimetype": "text/x-python",
   "codemirror_mode": {
    "name": "ipython",
    "version": 3
   },
   "pygments_lexer": "ipython3",
   "nbconvert_exporter": "python",
   "file_extension": ".py"
  },
  "kernelspec": {
   "name": "python3",
   "display_name": "Python 3.8.8 64-bit ('mlenv': venv)"
  },
  "interpreter": {
   "hash": "64eef7adee6260e839badb1decb60292ef8dcf6f0c9c7bd538f98ad735b6d354"
  }
 },
 "nbformat": 4,
 "nbformat_minor": 2
}