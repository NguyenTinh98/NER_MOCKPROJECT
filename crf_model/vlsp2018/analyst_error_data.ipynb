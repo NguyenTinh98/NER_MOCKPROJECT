{
 "cells": [
  {
   "cell_type": "markdown",
   "source": [
    "#### Phân tích lỗi"
   ],
   "metadata": {}
  },
  {
   "cell_type": "markdown",
   "source": [
    "### Data vlsp 2018 + Model có BI"
   ],
   "metadata": {}
  },
  {
   "cell_type": "code",
   "execution_count": 2,
   "source": [
    "import pandas as pd\n",
    "\n",
    "data_error = pd.read_csv(\"/Users/phamvanmanh/Documents/GitHub/NER_MOCKPROJECT/crf_model/vlsp2018/vlsp_2018_not_BI.csv\")\n"
   ],
   "outputs": [],
   "metadata": {}
  },
  {
   "cell_type": "code",
   "execution_count": 19,
   "source": [
    "ner_tags = data_error[\"true_ner\"].unique()"
   ],
   "outputs": [],
   "metadata": {}
  },
  {
   "cell_type": "code",
   "execution_count": 3,
   "source": [
    "data_error[data_error['is_error'] ==1]"
   ],
   "outputs": [
    {
     "output_type": "execute_result",
     "data": {
      "text/html": [
       "<div>\n",
       "<style scoped>\n",
       "    .dataframe tbody tr th:only-of-type {\n",
       "        vertical-align: middle;\n",
       "    }\n",
       "\n",
       "    .dataframe tbody tr th {\n",
       "        vertical-align: top;\n",
       "    }\n",
       "\n",
       "    .dataframe thead th {\n",
       "        text-align: right;\n",
       "    }\n",
       "</style>\n",
       "<table border=\"1\" class=\"dataframe\">\n",
       "  <thead>\n",
       "    <tr style=\"text-align: right;\">\n",
       "      <th></th>\n",
       "      <th>#sent</th>\n",
       "      <th>#word</th>\n",
       "      <th>word</th>\n",
       "      <th>true_pos</th>\n",
       "      <th>true_ner</th>\n",
       "      <th>predict_ner</th>\n",
       "      <th>is_error</th>\n",
       "    </tr>\n",
       "  </thead>\n",
       "  <tbody>\n",
       "    <tr>\n",
       "      <th>5</th>\n",
       "      <td>1</td>\n",
       "      <td>5</td>\n",
       "      <td>Trạm</td>\n",
       "      <td>Np</td>\n",
       "      <td>B-LOC</td>\n",
       "      <td>O</td>\n",
       "      <td>1</td>\n",
       "    </tr>\n",
       "    <tr>\n",
       "      <th>6</th>\n",
       "      <td>1</td>\n",
       "      <td>6</td>\n",
       "      <td>Biên</td>\n",
       "      <td>Np</td>\n",
       "      <td>I-LOC</td>\n",
       "      <td>O</td>\n",
       "      <td>1</td>\n",
       "    </tr>\n",
       "    <tr>\n",
       "      <th>7</th>\n",
       "      <td>1</td>\n",
       "      <td>7</td>\n",
       "      <td>phòng</td>\n",
       "      <td>N</td>\n",
       "      <td>I-LOC</td>\n",
       "      <td>O</td>\n",
       "      <td>1</td>\n",
       "    </tr>\n",
       "    <tr>\n",
       "      <th>8</th>\n",
       "      <td>1</td>\n",
       "      <td>8</td>\n",
       "      <td>Mũi</td>\n",
       "      <td>Np</td>\n",
       "      <td>I-LOC</td>\n",
       "      <td>B-PER</td>\n",
       "      <td>1</td>\n",
       "    </tr>\n",
       "    <tr>\n",
       "      <th>9</th>\n",
       "      <td>1</td>\n",
       "      <td>9</td>\n",
       "      <td>Tấn</td>\n",
       "      <td>Np</td>\n",
       "      <td>I-LOC</td>\n",
       "      <td>I-PER</td>\n",
       "      <td>1</td>\n",
       "    </tr>\n",
       "    <tr>\n",
       "      <th>...</th>\n",
       "      <td>...</td>\n",
       "      <td>...</td>\n",
       "      <td>...</td>\n",
       "      <td>...</td>\n",
       "      <td>...</td>\n",
       "      <td>...</td>\n",
       "      <td>...</td>\n",
       "    </tr>\n",
       "    <tr>\n",
       "      <th>66440</th>\n",
       "      <td>3207</td>\n",
       "      <td>10</td>\n",
       "      <td>Thám</td>\n",
       "      <td>Np</td>\n",
       "      <td>I-ORG</td>\n",
       "      <td>I-LOC</td>\n",
       "      <td>1</td>\n",
       "    </tr>\n",
       "    <tr>\n",
       "      <th>66453</th>\n",
       "      <td>3207</td>\n",
       "      <td>23</td>\n",
       "      <td>tạo</td>\n",
       "      <td>V</td>\n",
       "      <td>I-ORG</td>\n",
       "      <td>O</td>\n",
       "      <td>1</td>\n",
       "    </tr>\n",
       "    <tr>\n",
       "      <th>66454</th>\n",
       "      <td>3207</td>\n",
       "      <td>24</td>\n",
       "      <td>Quận</td>\n",
       "      <td>Np</td>\n",
       "      <td>I-ORG</td>\n",
       "      <td>B-LOC</td>\n",
       "      <td>1</td>\n",
       "    </tr>\n",
       "    <tr>\n",
       "      <th>66455</th>\n",
       "      <td>3207</td>\n",
       "      <td>25</td>\n",
       "      <td>Ba</td>\n",
       "      <td>Np</td>\n",
       "      <td>I-ORG</td>\n",
       "      <td>I-LOC</td>\n",
       "      <td>1</td>\n",
       "    </tr>\n",
       "    <tr>\n",
       "      <th>66456</th>\n",
       "      <td>3207</td>\n",
       "      <td>26</td>\n",
       "      <td>Đình</td>\n",
       "      <td>Np</td>\n",
       "      <td>I-ORG</td>\n",
       "      <td>I-LOC</td>\n",
       "      <td>1</td>\n",
       "    </tr>\n",
       "  </tbody>\n",
       "</table>\n",
       "<p>4122 rows × 7 columns</p>\n",
       "</div>"
      ],
      "text/plain": [
       "       #sent  #word   word true_pos true_ner predict_ner  is_error\n",
       "5          1      5   Trạm       Np    B-LOC           O         1\n",
       "6          1      6   Biên       Np    I-LOC           O         1\n",
       "7          1      7  phòng        N    I-LOC           O         1\n",
       "8          1      8    Mũi       Np    I-LOC       B-PER         1\n",
       "9          1      9    Tấn       Np    I-LOC       I-PER         1\n",
       "...      ...    ...    ...      ...      ...         ...       ...\n",
       "66440   3207     10   Thám       Np    I-ORG       I-LOC         1\n",
       "66453   3207     23    tạo        V    I-ORG           O         1\n",
       "66454   3207     24   Quận       Np    I-ORG       B-LOC         1\n",
       "66455   3207     25     Ba       Np    I-ORG       I-LOC         1\n",
       "66456   3207     26   Đình       Np    I-ORG       I-LOC         1\n",
       "\n",
       "[4122 rows x 7 columns]"
      ]
     },
     "metadata": {},
     "execution_count": 3
    }
   ],
   "metadata": {}
  },
  {
   "cell_type": "code",
   "execution_count": 51,
   "source": [
    "# số lượng LOC nhầm sang ORG, PER, O, MISC\n",
    "import matplotlib.pyplot as plt\n",
    "\n",
    "def show_analyst_error(df, ner_tag = \"B-LOC\", is_error = 1):\n",
    "    print(ner_tag)\n",
    "    if ner_tag != \"all\":\n",
    "        df_check = df.loc[(df.is_error == is_error) & (df.true_ner == ner_tag)]\n",
    "        print(ner_tag)\n",
    "        fig = plt.figure(figsize=(4, 3), dpi=80)\n",
    "        ax = fig.add_axes([0,0,1,1])\n",
    "   \n",
    "        fig.suptitle('Error of ' + ner_tag )\n",
    "        df_check_grouped = df_check.groupby(\"predict_ner\").size()\n",
    "        ner_tag = df_check_grouped.keys()\n",
    "        values = df_check_grouped\n",
    "        ax.bar(ner_tag,values)\n",
    "        return plt.show()\n",
    "    \n",
    "    if ner_tag == \"all\":\n",
    "        ner_tags = df[\"true_ner\"].unique()\n",
    "        for ner in ner_tags:\n",
    "            df_check = df.loc[(df.is_error == is_error) & (df.true_ner == ner)]\n",
    "            fig = plt.figure(figsize=(4, 3), dpi=80)\n",
    "            ax = fig.add_axes([0,0,1,1])\n",
    "            fig.suptitle('Error of ' +ner )\n",
    "            df_check_grouped = df_check.groupby(\"predict_ner\").size()\n",
    "            ner_tag = df_check_grouped.keys()\n",
    "            values = df_check_grouped\n",
    "            ax.bar(ner_tag,values)\n",
    "            \n",
    "        return plt.show()"
   ],
   "outputs": [],
   "metadata": {}
  },
  {
   "cell_type": "code",
   "execution_count": 52,
   "source": [
    "show_analyst_error(data_error, ner_tag = \"all\", is_error = 1)"
   ],
   "outputs": [
    {
     "output_type": "stream",
     "name": "stdout",
     "text": [
      "all\n"
     ]
    },
    {
     "output_type": "display_data",
     "data": {
      "image/png": "[encoded data removed]",
      "text/plain": [
       "<Figure size 320x240 with 1 Axes>"
      ]
     },
     "metadata": {
      "needs_background": "light"
     }
    },
    {
     "output_type": "display_data",
     "data": {
      "image/png": "[encoded data removed]",
      "text/plain": [
       "<Figure size 320x240 with 1 Axes>"
      ]
     },
     "metadata": {
      "needs_background": "light"
     }
    },
    {
     "output_type": "display_data",
     "data": {
      "image/png": "[encoded data removed]",
      "text/plain": [
       "<Figure size 320x240 with 1 Axes>"
      ]
     },
     "metadata": {
      "needs_background": "light"
     }
    },
    {
     "output_type": "display_data",
     "data": {
      "image/png": "[encoded data removed]",
      "text/plain": [
       "<Figure size 320x240 with 1 Axes>"
      ]
     },
     "metadata": {
      "needs_background": "light"
     }
    },
    {
     "output_type": "display_data",
     "data": {
      "image/png": "[encoded data removed]",
      "text/plain": [
       "<Figure size 320x240 with 1 Axes>"
      ]
     },
     "metadata": {
      "needs_background": "light"
     }
    },
    {
     "output_type": "display_data",
     "data": {
      "image/png": "[encoded data removed]",
      "text/plain": [
       "<Figure size 320x240 with 1 Axes>"
      ]
     },
     "metadata": {
      "needs_background": "light"
     }
    },
    {
     "output_type": "display_data",
     "data": {
      "image/png": "[encoded data removed]",
      "text/plain": [
       "<Figure size 320x240 with 1 Axes>"
      ]
     },
     "metadata": {
      "needs_background": "light"
     }
    },
    {
     "output_type": "display_data",
     "data": {
      "image/png": "[encoded data removed]",
      "text/plain": [
       "<Figure size 320x240 with 1 Axes>"
      ]
     },
     "metadata": {
      "needs_background": "light"
     }
    },
    {
     "output_type": "display_data",
     "data": {
      "image/png": "[encoded data removed]",
      "text/plain": [
       "<Figure size 320x240 with 1 Axes>"
      ]
     },
     "metadata": {
      "needs_background": "light"
     }
    }
   ],
   "metadata": {}
  },
  {
   "cell_type": "markdown",
   "source": [
    "Nhãn B-MISC nhầm sang các nhãn: B-LOC, B-ORG, I-LOC..., chủ yếu nhầm sang nhãn O"
   ],
   "metadata": {}
  },
  {
   "cell_type": "code",
   "execution_count": 34,
   "source": [
    "# df_per = data_error.loc[(data_error.is_error == 1) & (data_error.true_ner == \"B-MISC\")]\n",
    "# df_per.groupby(\"word\").size().sort_values(ascending=False)\n",
    "data_error.loc[(data_error.true_ner == \"B-MISC\") & (data_error.is_error == 1)][\"#sent\"].to_numpy()"
   ],
   "outputs": [
    {
     "output_type": "execute_result",
     "data": {
      "text/plain": [
       "array([ 114,  233,  404,  404,  474,  517,  518,  519,  520,  523,  555,\n",
       "        556,  786,  786,  786, 1283, 1285, 1287, 1297, 1387, 1389, 1391,\n",
       "       1394, 1396, 1396, 1397, 1398, 1401, 1410, 1535, 1557, 1629, 1758,\n",
       "       1760, 1774, 1779, 1791, 1941, 1946, 1974, 2021, 2030, 2258, 2261,\n",
       "       2262, 2262, 2263, 2266, 2266, 2283, 2284, 2284, 2285, 2286, 2286,\n",
       "       2329, 2331, 2333, 2333, 2393, 2418, 2419, 2419, 2473, 2587, 2587,\n",
       "       2588, 2593, 2597, 2615, 2628, 2702, 2709, 2720, 2721, 2765, 2766,\n",
       "       2768, 2769, 2776, 2777, 2777, 2778, 2779, 2780, 2782, 2799, 2800,\n",
       "       2801, 2802, 2806, 2807, 2808, 2812, 2812, 2812, 2812, 2812, 2827,\n",
       "       2830, 2832, 2895])"
      ]
     },
     "metadata": {},
     "execution_count": 34
    }
   ],
   "metadata": {}
  },
  {
   "cell_type": "code",
   "execution_count": 53,
   "source": [
    "data_error.loc[data_error[\"#sent\"] == 517]\n",
    "data_error.loc[data_error[\"#sent\"] == 518]"
   ],
   "outputs": [
    {
     "output_type": "execute_result",
     "data": {
      "text/html": [
       "<div>\n",
       "<style scoped>\n",
       "    .dataframe tbody tr th:only-of-type {\n",
       "        vertical-align: middle;\n",
       "    }\n",
       "\n",
       "    .dataframe tbody tr th {\n",
       "        vertical-align: top;\n",
       "    }\n",
       "\n",
       "    .dataframe thead th {\n",
       "        text-align: right;\n",
       "    }\n",
       "</style>\n",
       "<table border=\"1\" class=\"dataframe\">\n",
       "  <thead>\n",
       "    <tr style=\"text-align: right;\">\n",
       "      <th></th>\n",
       "      <th>#sent</th>\n",
       "      <th>#word</th>\n",
       "      <th>word</th>\n",
       "      <th>true_pos</th>\n",
       "      <th>true_ner</th>\n",
       "      <th>predict_ner</th>\n",
       "      <th>is_error</th>\n",
       "    </tr>\n",
       "  </thead>\n",
       "  <tbody>\n",
       "    <tr>\n",
       "      <th>12864</th>\n",
       "      <td>518</td>\n",
       "      <td>0</td>\n",
       "      <td>Tàu</td>\n",
       "      <td>Np</td>\n",
       "      <td>B-MISC</td>\n",
       "      <td>O</td>\n",
       "      <td>1</td>\n",
       "    </tr>\n",
       "    <tr>\n",
       "      <th>12865</th>\n",
       "      <td>518</td>\n",
       "      <td>1</td>\n",
       "      <td>sân</td>\n",
       "      <td>N</td>\n",
       "      <td>I-MISC</td>\n",
       "      <td>O</td>\n",
       "      <td>1</td>\n",
       "    </tr>\n",
       "    <tr>\n",
       "      <th>12866</th>\n",
       "      <td>518</td>\n",
       "      <td>2</td>\n",
       "      <td>bay</td>\n",
       "      <td>V</td>\n",
       "      <td>I-MISC</td>\n",
       "      <td>O</td>\n",
       "      <td>1</td>\n",
       "    </tr>\n",
       "    <tr>\n",
       "      <th>12867</th>\n",
       "      <td>518</td>\n",
       "      <td>3</td>\n",
       "      <td>Mỹ</td>\n",
       "      <td>Np</td>\n",
       "      <td>I-MISC</td>\n",
       "      <td>B-LOC</td>\n",
       "      <td>1</td>\n",
       "    </tr>\n",
       "    <tr>\n",
       "      <th>12868</th>\n",
       "      <td>518</td>\n",
       "      <td>4</td>\n",
       "      <td>Ronald</td>\n",
       "      <td>Np</td>\n",
       "      <td>I-MISC</td>\n",
       "      <td>B-PER</td>\n",
       "      <td>1</td>\n",
       "    </tr>\n",
       "    <tr>\n",
       "      <th>12869</th>\n",
       "      <td>518</td>\n",
       "      <td>5</td>\n",
       "      <td>Reagan</td>\n",
       "      <td>Np</td>\n",
       "      <td>I-MISC</td>\n",
       "      <td>I-PER</td>\n",
       "      <td>1</td>\n",
       "    </tr>\n",
       "    <tr>\n",
       "      <th>12870</th>\n",
       "      <td>518</td>\n",
       "      <td>6</td>\n",
       "      <td>đang</td>\n",
       "      <td>R</td>\n",
       "      <td>O</td>\n",
       "      <td>O</td>\n",
       "      <td>0</td>\n",
       "    </tr>\n",
       "    <tr>\n",
       "      <th>12871</th>\n",
       "      <td>518</td>\n",
       "      <td>7</td>\n",
       "      <td>tiến</td>\n",
       "      <td>V</td>\n",
       "      <td>O</td>\n",
       "      <td>O</td>\n",
       "      <td>0</td>\n",
       "    </tr>\n",
       "    <tr>\n",
       "      <th>12872</th>\n",
       "      <td>518</td>\n",
       "      <td>8</td>\n",
       "      <td>hành</td>\n",
       "      <td>V</td>\n",
       "      <td>O</td>\n",
       "      <td>O</td>\n",
       "      <td>0</td>\n",
       "    </tr>\n",
       "    <tr>\n",
       "      <th>12873</th>\n",
       "      <td>518</td>\n",
       "      <td>9</td>\n",
       "      <td>tập</td>\n",
       "      <td>V</td>\n",
       "      <td>O</td>\n",
       "      <td>O</td>\n",
       "      <td>0</td>\n",
       "    </tr>\n",
       "    <tr>\n",
       "      <th>12874</th>\n",
       "      <td>518</td>\n",
       "      <td>10</td>\n",
       "      <td>trận</td>\n",
       "      <td>N</td>\n",
       "      <td>O</td>\n",
       "      <td>O</td>\n",
       "      <td>0</td>\n",
       "    </tr>\n",
       "    <tr>\n",
       "      <th>12875</th>\n",
       "      <td>518</td>\n",
       "      <td>11</td>\n",
       "      <td>với</td>\n",
       "      <td>N</td>\n",
       "      <td>O</td>\n",
       "      <td>O</td>\n",
       "      <td>0</td>\n",
       "    </tr>\n",
       "    <tr>\n",
       "      <th>12876</th>\n",
       "      <td>518</td>\n",
       "      <td>12</td>\n",
       "      <td>các</td>\n",
       "      <td>L</td>\n",
       "      <td>O</td>\n",
       "      <td>O</td>\n",
       "      <td>0</td>\n",
       "    </tr>\n",
       "    <tr>\n",
       "      <th>12877</th>\n",
       "      <td>518</td>\n",
       "      <td>13</td>\n",
       "      <td>tàu</td>\n",
       "      <td>N</td>\n",
       "      <td>O</td>\n",
       "      <td>O</td>\n",
       "      <td>0</td>\n",
       "    </tr>\n",
       "    <tr>\n",
       "      <th>12878</th>\n",
       "      <td>518</td>\n",
       "      <td>14</td>\n",
       "      <td>chiến</td>\n",
       "      <td>V</td>\n",
       "      <td>O</td>\n",
       "      <td>O</td>\n",
       "      <td>0</td>\n",
       "    </tr>\n",
       "    <tr>\n",
       "      <th>12879</th>\n",
       "      <td>518</td>\n",
       "      <td>15</td>\n",
       "      <td>của</td>\n",
       "      <td>N</td>\n",
       "      <td>O</td>\n",
       "      <td>O</td>\n",
       "      <td>0</td>\n",
       "    </tr>\n",
       "    <tr>\n",
       "      <th>12880</th>\n",
       "      <td>518</td>\n",
       "      <td>16</td>\n",
       "      <td>Nhật</td>\n",
       "      <td>Np</td>\n",
       "      <td>B-LOC</td>\n",
       "      <td>B-LOC</td>\n",
       "      <td>0</td>\n",
       "    </tr>\n",
       "    <tr>\n",
       "      <th>12881</th>\n",
       "      <td>518</td>\n",
       "      <td>17</td>\n",
       "      <td>Bản</td>\n",
       "      <td>Np</td>\n",
       "      <td>I-LOC</td>\n",
       "      <td>I-LOC</td>\n",
       "      <td>0</td>\n",
       "    </tr>\n",
       "    <tr>\n",
       "      <th>12882</th>\n",
       "      <td>518</td>\n",
       "      <td>18</td>\n",
       "      <td>ở</td>\n",
       "      <td>V</td>\n",
       "      <td>O</td>\n",
       "      <td>O</td>\n",
       "      <td>0</td>\n",
       "    </tr>\n",
       "    <tr>\n",
       "      <th>12883</th>\n",
       "      <td>518</td>\n",
       "      <td>19</td>\n",
       "      <td>vùng</td>\n",
       "      <td>N</td>\n",
       "      <td>O</td>\n",
       "      <td>O</td>\n",
       "      <td>0</td>\n",
       "    </tr>\n",
       "    <tr>\n",
       "      <th>12884</th>\n",
       "      <td>518</td>\n",
       "      <td>20</td>\n",
       "      <td>biển</td>\n",
       "      <td>N</td>\n",
       "      <td>O</td>\n",
       "      <td>O</td>\n",
       "      <td>0</td>\n",
       "    </tr>\n",
       "    <tr>\n",
       "      <th>12885</th>\n",
       "      <td>518</td>\n",
       "      <td>21</td>\n",
       "      <td>phía</td>\n",
       "      <td>N</td>\n",
       "      <td>O</td>\n",
       "      <td>O</td>\n",
       "      <td>0</td>\n",
       "    </tr>\n",
       "    <tr>\n",
       "      <th>12886</th>\n",
       "      <td>518</td>\n",
       "      <td>22</td>\n",
       "      <td>nam</td>\n",
       "      <td>N</td>\n",
       "      <td>O</td>\n",
       "      <td>O</td>\n",
       "      <td>0</td>\n",
       "    </tr>\n",
       "    <tr>\n",
       "      <th>12887</th>\n",
       "      <td>518</td>\n",
       "      <td>23</td>\n",
       "      <td>bán</td>\n",
       "      <td>V</td>\n",
       "      <td>B-LOC</td>\n",
       "      <td>B-LOC</td>\n",
       "      <td>0</td>\n",
       "    </tr>\n",
       "    <tr>\n",
       "      <th>12888</th>\n",
       "      <td>518</td>\n",
       "      <td>24</td>\n",
       "      <td>đảo</td>\n",
       "      <td>N</td>\n",
       "      <td>I-LOC</td>\n",
       "      <td>I-LOC</td>\n",
       "      <td>0</td>\n",
       "    </tr>\n",
       "    <tr>\n",
       "      <th>12889</th>\n",
       "      <td>518</td>\n",
       "      <td>25</td>\n",
       "      <td>Triều</td>\n",
       "      <td>Np</td>\n",
       "      <td>I-LOC</td>\n",
       "      <td>I-LOC</td>\n",
       "      <td>0</td>\n",
       "    </tr>\n",
       "    <tr>\n",
       "      <th>12890</th>\n",
       "      <td>518</td>\n",
       "      <td>26</td>\n",
       "      <td>Tiên</td>\n",
       "      <td>Np</td>\n",
       "      <td>I-LOC</td>\n",
       "      <td>I-LOC</td>\n",
       "      <td>0</td>\n",
       "    </tr>\n",
       "    <tr>\n",
       "      <th>12891</th>\n",
       "      <td>518</td>\n",
       "      <td>27</td>\n",
       "      <td>.</td>\n",
       "      <td>F</td>\n",
       "      <td>O</td>\n",
       "      <td>O</td>\n",
       "      <td>0</td>\n",
       "    </tr>\n",
       "  </tbody>\n",
       "</table>\n",
       "</div>"
      ],
      "text/plain": [
       "       #sent  #word    word true_pos true_ner predict_ner  is_error\n",
       "12864    518      0     Tàu       Np   B-MISC           O         1\n",
       "12865    518      1     sân        N   I-MISC           O         1\n",
       "12866    518      2     bay        V   I-MISC           O         1\n",
       "12867    518      3      Mỹ       Np   I-MISC       B-LOC         1\n",
       "12868    518      4  Ronald       Np   I-MISC       B-PER         1\n",
       "12869    518      5  Reagan       Np   I-MISC       I-PER         1\n",
       "12870    518      6    đang        R        O           O         0\n",
       "12871    518      7    tiến        V        O           O         0\n",
       "12872    518      8    hành        V        O           O         0\n",
       "12873    518      9     tập        V        O           O         0\n",
       "12874    518     10    trận        N        O           O         0\n",
       "12875    518     11     với        N        O           O         0\n",
       "12876    518     12     các        L        O           O         0\n",
       "12877    518     13     tàu        N        O           O         0\n",
       "12878    518     14   chiến        V        O           O         0\n",
       "12879    518     15     của        N        O           O         0\n",
       "12880    518     16    Nhật       Np    B-LOC       B-LOC         0\n",
       "12881    518     17     Bản       Np    I-LOC       I-LOC         0\n",
       "12882    518     18       ở        V        O           O         0\n",
       "12883    518     19    vùng        N        O           O         0\n",
       "12884    518     20    biển        N        O           O         0\n",
       "12885    518     21    phía        N        O           O         0\n",
       "12886    518     22     nam        N        O           O         0\n",
       "12887    518     23     bán        V    B-LOC       B-LOC         0\n",
       "12888    518     24     đảo        N    I-LOC       I-LOC         0\n",
       "12889    518     25   Triều       Np    I-LOC       I-LOC         0\n",
       "12890    518     26    Tiên       Np    I-LOC       I-LOC         0\n",
       "12891    518     27       .        F        O           O         0"
      ]
     },
     "metadata": {},
     "execution_count": 53
    }
   ],
   "metadata": {}
  },
  {
   "cell_type": "markdown",
   "source": [
    "nhầm nhãn"
   ],
   "metadata": {}
  },
  {
   "cell_type": "code",
   "execution_count": null,
   "source": [],
   "outputs": [],
   "metadata": {}
  },
  {
   "cell_type": "code",
   "execution_count": null,
   "source": [],
   "outputs": [],
   "metadata": {}
  }
 ],
 "metadata": {
  "orig_nbformat": 4,
  "language_info": {
   "name": "python",
   "version": "3.8.8",
   "mimetype": "text/x-python",
   "codemirror_mode": {
    "name": "ipython",
    "version": 3
   },
   "pygments_lexer": "ipython3",
   "nbconvert_exporter": "python",
   "file_extension": ".py"
  },
  "kernelspec": {
   "name": "python3",
   "display_name": "Python 3.8.8 64-bit ('mlenv': venv)"
  },
  "interpreter": {
   "hash": "64eef7adee6260e839badb1decb60292ef8dcf6f0c9c7bd538f98ad735b6d354"
  }
 },
 "nbformat": 4,
 "nbformat_minor": 2
}