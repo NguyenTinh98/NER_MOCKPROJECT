{
 "cells": [
  {
   "cell_type": "code",
   "execution_count": 116,
   "source": [
    "\n",
    "\n",
    "\n",
    "\n",
    "\n",
    "     \n"
   ],
   "outputs": [],
   "metadata": {}
  },
  {
   "cell_type": "code",
   "execution_count": 110,
   "source": [],
   "outputs": [],
   "metadata": {}
  }
 ],
 "metadata": {
  "orig_nbformat": 4,
  "language_info": {
   "name": "python",
   "version": "3.8.8",
   "mimetype": "text/x-python",
   "codemirror_mode": {
    "name": "ipython",
    "version": 3
   },
   "pygments_lexer": "ipython3",
   "nbconvert_exporter": "python",
   "file_extension": ".py"
  },
  "kernelspec": {
   "name": "python3",
   "display_name": "Python 3.8.8 64-bit ('mlenv': venv)"
  },
  "interpreter": {
   "hash": "64eef7adee6260e839badb1decb60292ef8dcf6f0c9c7bd538f98ad735b6d354"
  }
 },
 "nbformat": 4,
 "nbformat_minor": 2
}