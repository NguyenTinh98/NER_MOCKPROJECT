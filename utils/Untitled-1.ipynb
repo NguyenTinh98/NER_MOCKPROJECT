{
 "cells": [
  {
   "cell_type": "code",
   "execution_count": 6,
   "metadata": {
    "scrolled": true
   },
   "outputs": [
    {
     "name": "stdout",
     "output_type": "stream",
     "text": [
      "Convert admin jsonl\n",
      "Convert unknow jsonl\n"
     ]
    }
   ],
   "source": [
    "import json\n",
    "import pickle\n",
    "\n",
    "def isBelongRange(a, b):\n",
    "     return b[0] >= a[0] and b[1] <= a[1]\n",
    "\n",
    "def sorted_idx(idx, isReverse = False):\n",
    "    temp = [(u, v, a) for u, v, a in sorted(idx, key=lambda item: item[0], reverse = isReverse)]\n",
    "    res = [temp[0]]\n",
    "    for i in range(1, len(temp)):\n",
    "        if isBelongRange(temp[i], temp[i-1]):\n",
    "            res[-1] = temp[i]\n",
    "        elif not isBelongRange(temp[i-1], temp[i]):\n",
    "            res.append(temp[i])\n",
    "    return res\n",
    "\n",
    "\n",
    "def convert_jsondict2list(line):\n",
    "    text = line['data']\n",
    "    label = sorted_idx(line['label'])\n",
    "    res = []\n",
    "    ress = []\n",
    "    cur = 0\n",
    "    for s, e, l in label:\n",
    "        if cur < s:\n",
    "            res.append([cur, s-1, 'O'])\n",
    "        res.append([s, e, l])\n",
    "        cur = e + 1\n",
    "    if cur < len(text):\n",
    "        res.append([cur, len(text)-1, 'O'])\n",
    "    for i in range(len(res) - 1):\n",
    "        if -res[i][1] + res[i+1][0] > 1:\n",
    "            print(line['id']) \n",
    "    for s, e, l in res:\n",
    "        for i in text[s:e].strip().split():\n",
    "            ress.append((i, l))\n",
    "    return ress\n",
    "\n",
    "def convert_json_admin(file):\n",
    "    print('Convert admin jsonl')\n",
    "    data = []\n",
    "    with open (file, 'r', encoding='utf-8') as f:\n",
    "        for i in list(f):\n",
    "            temp = convert_jsondict2list((json.loads(i)))\n",
    "            if len(temp) > 0:\n",
    "                data.append(temp)  \n",
    "    return data\n",
    "\n",
    "def convert_json_unknown(file):\n",
    "    print('Convert unknow jsonl')\n",
    "    data = []\n",
    "    with open(file, 'r', encoding='utf-8') as f:\n",
    "        for i in list(f):\n",
    "            text = json.loads(i)['data']\n",
    "            temp = []\n",
    "            for i in text.strip().split():\n",
    "                temp.append((i, 'O'))\n",
    "            if len(temp) > 0:\n",
    "                data.append(temp)\n",
    "    return data\n",
    "\n",
    "def convert_data2pkl(data, file):\n",
    "    with open(file, 'wb') as f:\n",
    "        pickle.dump(data, f)\n",
    "        \n",
    "        \n",
    "        \n",
    "## pipeline convert jsonl to pkl\n",
    "## path to file admin jsonl and unknown jsonl\n",
    "## pipeline convert jsonl to pkl\n",
    "admins = 'D:\\\\FSOFT_QAI\\\\Mock project\\\\dataset\\\\vlsp21\\\\re-labeled\\\\train_final_admin.jsonl'\n",
    "unknows = 'D:\\\\FSOFT_QAI\\\\Mock project\\\\dataset\\\\vlsp21\\\\re-labeled\\\\train_final_unknown.jsonl'\n",
    "total_data = []\n",
    "file_pkl = 'D:\\\\FSOFT_QAI\\\\Mock project\\\\dataset\\\\vlsp21\\\\re-labeled\\\\train_final.pkl'\n",
    "total_data += convert_json_admin(admins)\n",
    "total_data += convert_json_unknown(unknows)\n",
    "convert_data2pkl(total_data, file_pkl)"
   ]
  }
 ],
 "metadata": {
  "interpreter": {
   "hash": "64eef7adee6260e839badb1decb60292ef8dcf6f0c9c7bd538f98ad735b6d354"
  },
  "kernelspec": {
   "display_name": "Python 3 (ipykernel)",
   "language": "python",
   "name": "python3"
  },
  "language_info": {
   "codemirror_mode": {
    "name": "ipython",
    "version": 3
   },
   "file_extension": ".py",
   "mimetype": "text/x-python",
   "name": "python",
   "nbconvert_exporter": "python",
   "pygments_lexer": "ipython3",
   "version": "3.8.0"
  }
 },
 "nbformat": 4,
 "nbformat_minor": 2
}
